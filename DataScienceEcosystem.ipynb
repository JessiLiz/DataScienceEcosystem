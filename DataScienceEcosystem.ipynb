{
 "cells": [
  {
   "cell_type": "markdown",
   "id": "2c472412-3260-40d1-bfbd-78e12a3d51a4",
   "metadata": {},
   "source": [
    "<H1>Data Science Tools and Ecosystem"
   ]
  },
  {
   "cell_type": "markdown",
   "id": "6a15b8a5-a4a6-43c3-9842-74e856950ad4",
   "metadata": {},
   "source": [
    "<H3>Introdution</H3>\n",
    "\n",
    "In this notebook, Data Science Tools and Ecosystem are summarized.\n"
   ]
  },
  {
   "cell_type": "markdown",
   "id": "b7330ed7-55f1-492f-9e8d-b12badda9fbd",
   "metadata": {},
   "source": [
    "**Objectives:**\n",
    "- List popular languages for Data Science\n",
    "- List popular libraries for Data Science\n",
    "- Perform examples of evaluating arithmetic expressions in Python\n",
    "- Convert 200 minutes to hours"
   ]
  },
  {
   "cell_type": "markdown",
   "id": "09d9f535-1337-48ec-8bf8-beeac77a609c",
   "metadata": {},
   "source": [
    "Some of the popular languages that Data Scientists use are:\n",
    "\n",
    "* Python\n",
    "* RStudio\n",
    "* SQL"
   ]
  },
  {
   "cell_type": "markdown",
   "id": "06997016-252e-4cfc-81f8-9ea76bf07996",
   "metadata": {},
   "source": [
    "Some of the commonly used libraries used by Data Scientists include:\n",
    "\n",
    "* Pandas y NumPy\n",
    "* Matplotlib y Seaborn\n",
    "* Scikit learn y Keras\n",
    "* TensorFlow y PyTorch\n",
    "* ggplot2"
   ]
  },
  {
   "cell_type": "markdown",
   "id": "92af374a-e97d-43b7-a631-570ac70bae23",
   "metadata": {},
   "source": [
    "| Data Science Tools|\n",
    "| -------------|\n",
    "|Jupyter Notebook |\n",
    "| RStudio |\n",
    "| Apache Zeppelin |"
   ]
  },
  {
   "cell_type": "markdown",
   "id": "9b6dca1d-618f-493a-ba31-04190c9a46c7",
   "metadata": {},
   "source": [
    "<H3>Below are a few examples of evaluating arithmetic expressions in Python"
   ]
  },
  {
   "cell_type": "code",
   "execution_count": 21,
   "id": "3803afe7-2d9e-409c-8bc1-0d354567c539",
   "metadata": {},
   "outputs": [
    {
     "data": {
      "text/plain": [
       "17"
      ]
     },
     "execution_count": 21,
     "metadata": {},
     "output_type": "execute_result"
    }
   ],
   "source": [
    "#This a simple arithmetic expression to mutiply then add integers\n",
    "(3*4)+5"
   ]
  },
  {
   "cell_type": "code",
   "execution_count": 17,
   "id": "ebad6ba6-8cc5-43f3-a305-6d5b730fe0cc",
   "metadata": {},
   "outputs": [
    {
     "data": {
      "text/plain": [
       "3.3333333333333335"
      ]
     },
     "execution_count": 17,
     "metadata": {},
     "output_type": "execute_result"
    }
   ],
   "source": [
    "# This will convert 200 minutes to hours by diving by 60\n",
    "minutes = 200\n",
    "hours = minutes / 60\n",
    "hours\n"
   ]
  },
  {
   "cell_type": "markdown",
   "id": "d97a4aa8-6452-4cf4-a63d-b66f51917c34",
   "metadata": {},
   "source": [
    "## Author: \n",
    "Jessika Lizzeth Santos López\n"
   ]
  }
 ],
 "metadata": {
  "kernelspec": {
   "display_name": "Python 3 (ipykernel)",
   "language": "python",
   "name": "python3"
  },
  "language_info": {
   "codemirror_mode": {
    "name": "ipython",
    "version": 3
   },
   "file_extension": ".py",
   "mimetype": "text/x-python",
   "name": "python",
   "nbconvert_exporter": "python",
   "pygments_lexer": "ipython3",
   "version": "3.12.4"
  }
 },
 "nbformat": 4,
 "nbformat_minor": 5
}
